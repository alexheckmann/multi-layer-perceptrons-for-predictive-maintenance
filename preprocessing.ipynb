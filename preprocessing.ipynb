{
 "cells": [
  {
   "cell_type": "code",
   "execution_count": 2,
   "outputs": [
    {
     "name": "stdout",
     "output_type": "stream",
     "text": [
      "0    6763\n",
      "1     237\n",
      "Name: Target, dtype: int64\n",
      "0    6763\n",
      "1    6763\n",
      "Name: Target, dtype: int64\n"
     ]
    }
   ],
   "source": [
    "from sklearn.preprocessing import MinMaxScaler\n",
    "from sklearn.model_selection import train_test_split\n",
    "from imblearn.over_sampling import SMOTENC\n",
    "import random\n",
    "import pandas as pd\n",
    "\n",
    "BLUE = \"#0D0887\"\n",
    "RED = \"#FCD025\"\n",
    "\n",
    "random.seed(42)\n",
    "df = pd.read_csv(\"data/predictive_maintenance_original.csv\")\n",
    "df = df.drop([\"UDI\", \"Product ID\", \"Failure Type\"], axis=1)\n",
    "df = df.rename(columns={\"Air temperature [K]\": \"AirTemperature\",\n",
    "                        \"Process temperature [K]\": \"ProcessTemp\", \"Tool wear [min]\": \"ToolWear\",\n",
    "                        \"Torque [Nm]\": \"Torque\", \"Rotational speed [rpm]\": \"RotationalSpeed\"})\n",
    "ohe_type = pd.get_dummies(df.Type, prefix=\"Type\")\n",
    "df = pd.concat([df, ohe_type], axis=1)\n",
    "df = df.drop(\"Type\", axis=1)\n",
    "\n",
    "# split data\n",
    "train_df, test_df = train_test_split(df, train_size=0.7, random_state=42, stratify=df[\"Target\"])\n",
    "\n",
    "# oversample train\n",
    "sm = SMOTENC(random_state=42, sampling_strategy=\"minority\", categorical_features=[5, 6, 7])\n",
    "y_train = train_df.copy(deep=True)[\"Target\"]\n",
    "print(y_train.value_counts())\n",
    "x_train_unscaled = train_df.drop(\"Target\", axis=1)\n",
    "x_res, y_res = sm.fit_resample(x_train_unscaled, y_train)\n",
    "x_res = x_res.reset_index()\n",
    "y_res = y_res.reset_index()\n",
    "train_df = pd.concat([x_res, y_res], axis=1)\n",
    "print(train_df[\"Target\"].value_counts())\n",
    "\n",
    "# scale train\n",
    "train_scale_exclude = train_df[[\"Type_M\", \"Type_L\", \"Type_H\", \"Target\"]]\n",
    "train_scale_include = train_df.drop([\"Type_M\", \"Type_L\", \"Type_H\", \"Target\"], axis=1)\n",
    "\n",
    "mms_train = MinMaxScaler()\n",
    "train_scale_include_names = train_scale_include.columns\n",
    "train_scale_include = mms_train.fit_transform(train_scale_include)\n",
    "train_scale_include = pd.DataFrame(data=train_scale_include, columns=train_scale_include_names)\n",
    "train_scale_include = train_scale_include.reset_index()\n",
    "train_scale_exclude = train_scale_exclude.reset_index()\n",
    "train_df = pd.concat([train_scale_include, train_scale_exclude], axis=1)\n",
    "train_df = train_df.drop([\"level_0\", \"index\"], axis=1)\n",
    "\n",
    "# scale test\n",
    "test_scale_exclude = test_df[[\"Type_M\", \"Type_L\", \"Type_H\", \"Target\"]]\n",
    "test_scale_include = test_df.drop([\"Type_M\", \"Type_L\", \"Type_H\", \"Target\"], axis=1)\n",
    "\n",
    "mms_test = MinMaxScaler()\n",
    "test_scale_include_names = test_scale_include.columns\n",
    "test_scale_include = mms_test.fit_transform(test_scale_include)\n",
    "test_scale_include = pd.DataFrame(data=test_scale_include, columns=test_scale_include_names)\n",
    "test_scale_include = test_scale_include.reset_index()\n",
    "test_scale_exclude = test_scale_exclude.reset_index()\n",
    "test_df = pd.concat([test_scale_include, test_scale_exclude], axis=1)\n",
    "test_df = test_df.drop([\"index\"], axis=1)\n",
    "\n",
    "train_df.to_csv(\"data/predictive_maintenance_training.csv\", index=False)\n",
    "test_df.to_csv(\"data/predictive_maintenance_test.csv\", index=False)"
   ],
   "metadata": {
    "collapsed": false
   }
  }
 ],
 "metadata": {
  "kernelspec": {
   "display_name": "Python 3",
   "language": "python",
   "name": "python3"
  },
  "language_info": {
   "codemirror_mode": {
    "name": "ipython",
    "version": 2
   },
   "file_extension": ".py",
   "mimetype": "text/x-python",
   "name": "python",
   "nbconvert_exporter": "python",
   "pygments_lexer": "ipython2",
   "version": "2.7.6"
  }
 },
 "nbformat": 4,
 "nbformat_minor": 0
}
