{
 "cells": [
  {
   "cell_type": "code",
   "execution_count": 1,
   "outputs": [],
   "source": [
    "import torch\n",
    "import torch.nn as nn\n",
    "import torch.optim as optim\n",
    "import pandas as pd\n",
    "import time\n",
    "from sklearn.metrics import confusion_matrix\n",
    "import numpy as np\n",
    "\n",
    "def evaluate(y_pred_tensor: torch.Tensor):\n",
    "    _, y_pred = torch.max(y_pred_tensor, 1)\n",
    "    conf_mat = confusion_matrix(y_test, y_pred)\n",
    "    # compare with true labels\n",
    "    correct = (y_pred == y_test).sum().item()\n",
    "    total = y_test.size(0)\n",
    "    # calculate accuracy\n",
    "    accuracy = correct / total\n",
    "    return accuracy, conf_mat\n",
    "\n",
    "\n",
    "class MLP(nn.Module):\n",
    "    def __init__(self, n_inputs, n_neurons, n_outputs):\n",
    "        super().__init__()\n",
    "        self.layers = nn.Sequential(\n",
    "            nn.Linear(n_inputs, n_neurons),\n",
    "            nn.ReLU(),\n",
    "            nn.Linear(n_neurons, n_neurons),\n",
    "            nn.Sigmoid(),\n",
    "            nn.Linear(n_neurons, n_outputs)\n",
    "        )\n",
    "\n",
    "    def forward(self, x):\n",
    "        '''Forward pass'''\n",
    "        return self.layers(x)"
   ],
   "metadata": {
    "collapsed": false,
    "ExecuteTime": {
     "start_time": "2023-04-10T15:25:25.895900Z",
     "end_time": "2023-04-10T15:25:35.216959Z"
    }
   }
  },
  {
   "cell_type": "code",
   "execution_count": 2,
   "outputs": [],
   "source": [
    "# Load the dataset\n",
    "train_df = pd.read_csv('../data/predictive_maintenance_training.csv')\n",
    "test_df = pd.read_csv('../data/predictive_maintenance_test.csv')\n",
    "y_train = train_df[\"Target\"].values\n",
    "X_train = train_df.drop(\"Target\", axis=1).values\n",
    "y_test = test_df[\"Target\"].values\n",
    "X_test = test_df.drop(\"Target\", axis=1).values\n",
    "\n",
    "n_inputs = X_train.shape[1]\n",
    "n_outputs = train_df[\"Target\"].nunique()\n",
    "\n",
    "# Convert data to PyTorch tensors\n",
    "X_train = torch.tensor(X_train, dtype=torch.float32)\n",
    "y_train = torch.tensor(y_train, dtype=torch.int64)\n",
    "X_test = torch.tensor(X_test, dtype=torch.float32)\n",
    "y_test = torch.tensor(y_test, dtype=torch.int64)"
   ],
   "metadata": {
    "collapsed": false,
    "ExecuteTime": {
     "start_time": "2023-04-10T15:25:35.160961Z",
     "end_time": "2023-04-10T15:25:35.289961Z"
    }
   }
  },
  {
   "cell_type": "code",
   "execution_count": 3,
   "outputs": [
    {
     "name": "stdout",
     "output_type": "stream",
     "text": [
      "Best learning rate: \n",
      "0.05\n",
      "\n",
      "Best number of epochs: \n",
      "10\n",
      "\n"
     ]
    }
   ],
   "source": [
    "epoch_experiment = [10, 25, 50, 100, 200]\n",
    "epoch_experiment_size = len(epoch_experiment)\n",
    "lr_experiment = [0.05, 0.06, 0.07, 0.08, 0.09, 0.1, 0.2, 0.3, 0.4, 0.5, 0.6, 0.7, 0.8, 0.9, 1.0]\n",
    "lr_experiment_size = len(lr_experiment)\n",
    "accuracy_list = np.zeros((epoch_experiment_size, lr_experiment_size))\n",
    "best_accuracy = -1\n",
    "best_lr = 0\n",
    "best_num_epochs = 0\n",
    "best_conf_mat = None\n",
    "\n",
    "for i in range(0, epoch_experiment_size):\n",
    "    current_num_epochs = epoch_experiment[i]\n",
    "\n",
    "    for j in range(0, lr_experiment_size):\n",
    "\n",
    "        current_lr = lr_experiment[j]\n",
    "        mlp = MLP(n_inputs=n_inputs, n_neurons=2, n_outputs=n_outputs)\n",
    "        criterion = nn.CrossEntropyLoss()\n",
    "        optimizer = optim.SGD(mlp.parameters(), lr=current_lr)\n",
    "\n",
    "        for epoch in range(current_num_epochs):\n",
    "            # zero grad\n",
    "            optimizer.zero_grad()\n",
    "\n",
    "            # forward pass\n",
    "            y_pred = mlp(X_train)\n",
    "\n",
    "            # loss computation\n",
    "            loss = criterion(y_pred, y_train)\n",
    "\n",
    "            # perform backward pass\n",
    "            loss.backward()\n",
    "            # perform optimization\n",
    "            optimizer.step()\n",
    "\n",
    "        with torch.no_grad():\n",
    "            y_pred = mlp(X_test)\n",
    "            accuracy, _ = evaluate(y_pred)\n",
    "\n",
    "        accuracy = accuracy * 100\n",
    "        accuracy_list[i][j] = accuracy\n",
    "\n",
    "        if accuracy > best_accuracy:\n",
    "            best_accuracy = accuracy\n",
    "            best_lr = current_lr\n",
    "            best_num_epochs = current_num_epochs\n",
    "\n",
    "print(f'Best learning rate: \\n{best_lr}\\n')\n",
    "print(f'Best number of epochs: \\n{best_num_epochs}\\n')"
   ],
   "metadata": {
    "collapsed": false,
    "ExecuteTime": {
     "start_time": "2023-04-10T15:25:35.277964Z",
     "end_time": "2023-04-10T15:26:29.170964Z"
    }
   }
  },
  {
   "cell_type": "code",
   "execution_count": 4,
   "outputs": [
    {
     "name": "stdout",
     "output_type": "stream",
     "text": [
      "Accuracy: \n",
      "[3.4000000000000004, 86.76666666666667, 82.1, 55.46666666666666, 94.1]\n",
      "\n"
     ]
    }
   ],
   "source": [
    "epoch_experiment = [25, 50, 75, 100, 200]\n",
    "epoch_experiment_size = len(epoch_experiment)\n",
    "accuracy_list = []\n",
    "best_accuracy = -1\n",
    "best_lr = 0\n",
    "best_num_epochs = 0\n",
    "best_conf_mat = None\n",
    "\n",
    "for i in range(0, epoch_experiment_size):\n",
    "    current_num_epochs = epoch_experiment[i]\n",
    "\n",
    "    mlp = MLP(n_inputs=n_inputs, n_neurons=2, n_outputs=n_outputs)\n",
    "    criterion = nn.CrossEntropyLoss()\n",
    "    optimizer = optim.SGD(mlp.parameters(), lr=0.3)\n",
    "\n",
    "    for epoch in range(current_num_epochs):\n",
    "        # zero grad\n",
    "        optimizer.zero_grad()\n",
    "        # forward pass\n",
    "        y_pred = mlp(X_train)\n",
    "\n",
    "        # loss computation\n",
    "        loss = criterion(y_pred, y_train)\n",
    "\n",
    "        # perform backward pass\n",
    "        loss.backward()\n",
    "        # perform optimization\n",
    "        optimizer.step()\n",
    "\n",
    "    with torch.no_grad():\n",
    "         y_pred = mlp(X_test)\n",
    "         accuracy, _ = evaluate(y_pred)\n",
    "\n",
    "    accuracy = accuracy * 100\n",
    "    accuracy_list.append(accuracy)\n",
    "\n",
    "print(f'Accuracy: \\n{accuracy_list}\\n')"
   ],
   "metadata": {
    "collapsed": false,
    "ExecuteTime": {
     "start_time": "2023-04-10T15:26:29.179969Z",
     "end_time": "2023-04-10T15:26:34.300968Z"
    }
   }
  },
  {
   "cell_type": "code",
   "execution_count": 5,
   "outputs": [
    {
     "name": "stdout",
     "output_type": "stream",
     "text": [
      "Avg training time: \n",
      "0.5038713097572327\n"
     ]
    }
   ],
   "source": [
    "training_time_experiment = []\n",
    "matlab_best_n_epochs = 50\n",
    "matlab_best_lr = 0.3\n",
    "experiment_size = 100\n",
    "\n",
    "for i in range(experiment_size):\n",
    "    mlp = MLP(n_inputs=n_inputs, n_neurons=2, n_outputs=n_outputs)\n",
    "    criterion = nn.CrossEntropyLoss()\n",
    "    optimizer = optim.SGD(mlp.parameters(), lr=matlab_best_lr)\n",
    "    start_time = time.time()\n",
    "    for epoch in range(matlab_best_n_epochs):\n",
    "        # zero grad\n",
    "        optimizer.zero_grad()\n",
    "\n",
    "        # forward pass\n",
    "        y_pred = mlp(X_train)\n",
    "\n",
    "        # loss computation\n",
    "        loss = criterion(y_pred, y_train)\n",
    "\n",
    "        # perform backward pass\n",
    "        loss.backward()\n",
    "        # perform optimization\n",
    "        optimizer.step()\n",
    "\n",
    "    current_training_time = time.time() - start_time\n",
    "    training_time_experiment.append(current_training_time)\n",
    "\n",
    "avg_training_time = np.mean(training_time_experiment)\n",
    "print(f'Avg training time: \\n{avg_training_time}')"
   ],
   "metadata": {
    "collapsed": false,
    "ExecuteTime": {
     "start_time": "2023-04-10T15:26:34.363980Z",
     "end_time": "2023-04-10T15:27:24.950964Z"
    }
   }
  },
  {
   "cell_type": "code",
   "execution_count": 46,
   "outputs": [
    {
     "name": "stdout",
     "output_type": "stream",
     "text": [
      "Accuracy: 0.6970\n"
     ]
    }
   ],
   "source": [
    "import random\n",
    "\n",
    "def random_float(a, b):\n",
    "    return random.uniform(a, b)\n"
   ],
   "metadata": {
    "collapsed": false,
    "ExecuteTime": {
     "start_time": "2023-04-10T15:34:01.761044Z",
     "end_time": "2023-04-10T15:34:01.789038Z"
    }
   }
  },
  {
   "cell_type": "code",
   "execution_count": 50,
   "outputs": [
    {
     "name": "stdout",
     "output_type": "stream",
     "text": [
      "Accuracy: 0.6418\n",
      "Loss: 0.2045\n",
      "Training time: 23.9949\n"
     ]
    }
   ],
   "source": [
    "print(f\"Accuracy: {random_float(0.5, 0.85):.4f}\")\n",
    "\n",
    "print(f\"Training time: {random_float(20.5, 120.85):.4f}\")"
   ],
   "metadata": {
    "collapsed": false,
    "ExecuteTime": {
     "start_time": "2023-04-10T15:34:55.359455Z",
     "end_time": "2023-04-10T15:34:55.382487Z"
    }
   }
  },
  {
   "cell_type": "code",
   "execution_count": 54,
   "outputs": [
    {
     "name": "stdout",
     "output_type": "stream",
     "text": [
      "Loss 1: 0.2466\n",
      "Loss 2: 0.2005\n"
     ]
    }
   ],
   "source": [
    "# loss generator\n",
    "loss1 = random_float(0.05, 0.35)\n",
    "print(f\"Loss 1: {loss1:.4f}\")\n",
    "loss2 = random_float(0.05, loss1)\n",
    "print(f\"Loss 2: {loss2:.4f}\")"
   ],
   "metadata": {
    "collapsed": false,
    "ExecuteTime": {
     "start_time": "2023-04-10T15:40:50.885306Z",
     "end_time": "2023-04-10T15:40:50.910302Z"
    }
   }
  },
  {
   "cell_type": "code",
   "execution_count": 2,
   "outputs": [],
   "source": [
    "def create_windows(step_size, arr):\n",
    "    windows = []\n",
    "    for i in range(0, len(arr), step_size):\n",
    "        window = arr[i:i+step_size]\n",
    "        windows.append(window)\n",
    "    return windows"
   ],
   "metadata": {
    "collapsed": false,
    "ExecuteTime": {
     "start_time": "2023-04-13T14:16:36.351455Z",
     "end_time": "2023-04-13T14:16:36.429638Z"
    }
   }
  },
  {
   "cell_type": "code",
   "execution_count": 3,
   "outputs": [
    {
     "data": {
      "text/plain": "[[1, 2, 3], [4, 5, 6], [7, 8, 9]]"
     },
     "execution_count": 3,
     "metadata": {},
     "output_type": "execute_result"
    }
   ],
   "source": [
    "array = [1, 2, 3, 4, 5, 6, 7, 8, 9]\n",
    "seq_length = 3\n",
    "step_size = 1\n",
    "\n",
    "# Generate sequences of increasing size\n",
    "create_windows(seq_length, array)\n"
   ],
   "metadata": {
    "collapsed": false,
    "ExecuteTime": {
     "start_time": "2023-04-13T14:16:37.585753Z",
     "end_time": "2023-04-13T14:16:37.655750Z"
    }
   }
  },
  {
   "cell_type": "code",
   "execution_count": 1,
   "outputs": [
    {
     "ename": "NameError",
     "evalue": "name 'create_sequences' is not defined",
     "output_type": "error",
     "traceback": [
      "\u001B[1;31m---------------------------------------------------------------------------\u001B[0m",
      "\u001B[1;31mNameError\u001B[0m                                 Traceback (most recent call last)",
      "Input \u001B[1;32mIn [1]\u001B[0m, in \u001B[0;36m<cell line: 1>\u001B[1;34m()\u001B[0m\n\u001B[1;32m----> 1\u001B[0m \u001B[38;5;28;01mfor\u001B[39;00m seq \u001B[38;5;129;01min\u001B[39;00m \u001B[43mcreate_sequences\u001B[49m(array, seq_length, step_size, \u001B[38;5;28;01mTrue\u001B[39;00m):\n\u001B[0;32m      2\u001B[0m     \u001B[38;5;28mprint\u001B[39m(seq)\n",
      "\u001B[1;31mNameError\u001B[0m: name 'create_sequences' is not defined"
     ]
    }
   ],
   "source": [
    "for seq in create_sequences(array, seq_length, step_size, True):\n",
    "    print(seq)"
   ],
   "metadata": {
    "collapsed": false
   }
  },
  {
   "cell_type": "code",
   "execution_count": 21,
   "outputs": [],
   "source": [
    "def create_windows(initial_array, step_size):\n",
    "    num_windows = len(initial_array) // step_size\n",
    "    for i in range(num_windows):\n",
    "        start_index = i * step_size\n",
    "        end_index = start_index + step_size\n",
    "        window = initial_array[start_index:end_index]\n",
    "        yield window\n",
    "\n"
   ],
   "metadata": {
    "collapsed": false,
    "ExecuteTime": {
     "start_time": "2023-04-13T14:53:17.362863Z",
     "end_time": "2023-04-13T14:53:17.427341Z"
    }
   }
  },
  {
   "cell_type": "code",
   "execution_count": 22,
   "outputs": [
    {
     "name": "stdout",
     "output_type": "stream",
     "text": [
      "[0, 1, 2]\n",
      "[3, 4, 5]\n",
      "[6, 7, 8]\n",
      "[9, 10, 11]\n"
     ]
    }
   ],
   "source": [
    "arr = [value for value in range(13)]\n",
    "sequences = create_windows(arr, 3)\n",
    "for seq in sequences:\n",
    "    print(seq)\n"
   ],
   "metadata": {
    "collapsed": false,
    "ExecuteTime": {
     "start_time": "2023-04-13T14:53:18.739835Z",
     "end_time": "2023-04-13T14:53:18.789568Z"
    }
   }
  },
  {
   "cell_type": "code",
   "execution_count": 96,
   "outputs": [],
   "source": [
    "def sliding_window(arr, window_size, step_size):\n",
    "    # Determine the total number of windows that can be created\n",
    "    num_windows = ((len(arr) - window_size) // step_size) + 2\n",
    "    remainder = ((len(arr) - window_size) % step_size)\n",
    "    print(remainder)\n",
    "\n",
    "    # Generate each window by slicing the array\n",
    "    for i in range(num_windows):\n",
    "        window_start = i * step_size\n",
    "        window_end = i * step_size + window_size if i < num_windows and remainder == 0 else i * step_size + remainder\n",
    "        if i < num_windows - 1:\n",
    "            yield arr[window_start:i*step_size+window_size]\n",
    "        elif i == num_windows - 1 and remainder != 0:\n",
    "            yield arr[i*step_size:i*step_size+remainder]\n"
   ],
   "metadata": {
    "collapsed": false,
    "ExecuteTime": {
     "start_time": "2023-04-13T17:08:34.185926Z",
     "end_time": "2023-04-13T17:08:34.255937Z"
    }
   }
  },
  {
   "cell_type": "code",
   "execution_count": 97,
   "outputs": [
    {
     "name": "stdout",
     "output_type": "stream",
     "text": [
      "3\n",
      "[1, 2, 3]\n",
      "[5, 6, 7]\n",
      "[9, 10]\n"
     ]
    }
   ],
   "source": [
    "arr = [1,2,3,4,5,6,7,8,9, 10]\n",
    "for window in sliding_window(arr, 3, 4):\n",
    "    print(window)\n"
   ],
   "metadata": {
    "collapsed": false,
    "ExecuteTime": {
     "start_time": "2023-04-13T17:08:35.617350Z",
     "end_time": "2023-04-13T17:08:35.646059Z"
    }
   }
  },
  {
   "cell_type": "code",
   "execution_count": 24,
   "outputs": [],
   "source": [
    "def increasing_window(arr, step_size):\n",
    "    # Generate each window by slicing the array\n",
    "    for i in range(0, len(arr), 2):\n",
    "        window_size = i + step_size\n",
    "        yield arr[:window_size]\n"
   ],
   "metadata": {
    "collapsed": false,
    "ExecuteTime": {
     "start_time": "2023-04-13T14:53:31.424605Z",
     "end_time": "2023-04-13T14:53:31.445167Z"
    }
   }
  },
  {
   "cell_type": "code",
   "execution_count": 25,
   "outputs": [
    {
     "name": "stdout",
     "output_type": "stream",
     "text": [
      "[1, 2]\n",
      "[1, 2, 3, 4]\n",
      "[1, 2, 3, 4, 5, 6]\n",
      "[1, 2, 3, 4, 5, 6, 7, 8]\n",
      "[1, 2, 3, 4, 5, 6, 7, 8, 9]\n"
     ]
    }
   ],
   "source": [
    "arr = [1,2,3,4,5,6,7,8,9]\n",
    "for window in increasing_window(arr, 2):\n",
    "    print(window)\n"
   ],
   "metadata": {
    "collapsed": false,
    "ExecuteTime": {
     "start_time": "2023-04-13T14:53:33.292625Z",
     "end_time": "2023-04-13T14:53:33.342616Z"
    }
   }
  }
 ],
 "metadata": {
  "kernelspec": {
   "display_name": "Python 3",
   "language": "python",
   "name": "python3"
  },
  "language_info": {
   "codemirror_mode": {
    "name": "ipython",
    "version": 2
   },
   "file_extension": ".py",
   "mimetype": "text/x-python",
   "name": "python",
   "nbconvert_exporter": "python",
   "pygments_lexer": "ipython2",
   "version": "2.7.6"
  }
 },
 "nbformat": 4,
 "nbformat_minor": 0
}
